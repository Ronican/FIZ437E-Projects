{
 "cells": [
  {
   "cell_type": "markdown",
   "id": "e2e16a0f-faa0-40f6-bb29-c9ccf88e3132",
   "metadata": {
    "tags": []
   },
   "source": [
    "### 1) SGD with Momentum:\n",
    "---\n",
    "\n",
    "$ v_{t} = \\alpha v_{t-1} + \\epsilon g_{t}$\n",
    "\n",
    "$ \\Delta\\theta_t = -v_{t}$\n",
    "\n",
    "$v_{t+1}=\\alpha v_{t}+\\epsilon g_{t+1}$\n",
    "\n",
    "$v_{t+1}=\\alpha(\\alpha v_{t-1}+\\epsilon g_{t})+\\epsilon g_{t+1}$\n",
    "\n",
    "$v_{t+1}=\\alpha^2 v_{t-1}+\\alpha\\epsilon g_{t}+\\epsilon g_{t+1}$\n",
    "\n",
    "$\\Delta\\theta_{t+1}=-v_{t+1}$\n",
    "\n",
    "$\\Delta\\theta_{t+1}=-\\alpha^2 v_{t-1}- \\alpha\\epsilon g_{t}-\\epsilon g_{t+1} \\ (a)$"
   ]
  },
  {
   "cell_type": "markdown",
   "id": "0abca657-147b-42a3-98a6-df6b4b4a29c3",
   "metadata": {},
   "source": [
    "### 2) SGD with Running Average:\n",
    "---\n",
    "$ v_{t}=\\beta v_{t-1}+ (1-\\beta) g_{t}$\n",
    "\n",
    "$\\Delta\\theta_t=-\\delta v_{t}$\n",
    "\n",
    "$ v_{t+1}=\\beta v_{t}+ (1-\\beta) g_{t+1}$\n",
    "\n",
    "$v_{t+1}=\\beta (\\beta v_{t-1}+ (1-\\beta) g_{t})+ (1-\\beta) g_{t+1}$\n",
    "\n",
    "$v_{t+1}=\\beta^2 v_{t-1}+ \\beta (1-\\beta) g_{t}+ (1-\\beta) g_{t+1}$\n",
    "\n",
    "$\\Delta\\theta_{t+1}=-\\delta v_{t+1}$\n",
    "\n",
    "$\\Delta\\theta_{t+1}=-\\delta \\beta^2 v_{t-1}- \\delta\\beta (1-\\beta) g_{t} - \\delta(1-\\beta) g_{t+1} \\ (b)$\n"
   ]
  },
  {
   "cell_type": "markdown",
   "id": "ecfd8b65-7908-4cba-9640-603d0533b1ac",
   "metadata": {},
   "source": [
    "$(a) = (b)$\n",
    "\n",
    "$\\alpha^2 = \\delta \\beta^2$\n",
    "\n",
    "$\\alpha\\epsilon = \\delta\\beta (1-\\beta)$\n",
    "\n",
    "$\\epsilon = \\delta(1-\\beta)$"
   ]
  },
  {
   "cell_type": "markdown",
   "id": "2dcb8399-2383-4e89-8354-0d65d5e3450c",
   "metadata": {
    "jp-MarkdownHeadingCollapsed": true,
    "tags": []
   },
   "source": [
    "---\n",
    "Expansion of $v_{t}$  with respect  to  $g_{i} $ "
   ]
  },
  {
   "cell_type": "markdown",
   "id": "4f93285d-a359-48ea-9345-9a1b81d34327",
   "metadata": {},
   "source": [
    "$ v_{1}=\\alpha v_{0}+\\epsilon g_{1}$\n",
    "\n",
    "$ v_{2}=\\alpha ( \\alpha v_{0}+\\epsilon g_{1})+\\epsilon g_{2} = \\alpha^2 v_{0}+ \\alpha \\epsilon g_{1}+\\epsilon g_{2}$\n",
    "\n",
    "$ v_{3}=\\alpha [\\alpha^2 v_{0}+ \\alpha\\epsilon g_{1}+\\epsilon g_{2}]+\\epsilon g_{3}=\\alpha^3 v_{0}+ \\alpha^2\\epsilon g_{1}+ \\alpha\\epsilon g_{2}+\\epsilon g_{3}$\n",
    "\n",
    "$. \\\\ .$ \n",
    "\n",
    "\n",
    "$ v_{t}= \\alpha^t v_{0} + \\sum_{i=1}^{t} \\epsilon \\alpha^{t-i} g_{i}$"
   ]
  },
  {
   "cell_type": "code",
   "execution_count": null,
   "id": "e712be8d-81f6-4546-9f94-51c9793a33d4",
   "metadata": {},
   "outputs": [],
   "source": []
  }
 ],
 "metadata": {
  "kernelspec": {
   "display_name": "Python 3",
   "language": "python",
   "name": "python3"
  },
  "language_info": {
   "codemirror_mode": {
    "name": "ipython",
    "version": 3
   },
   "file_extension": ".py",
   "mimetype": "text/x-python",
   "name": "python",
   "nbconvert_exporter": "python",
   "pygments_lexer": "ipython3",
   "version": "3.7.8"
  }
 },
 "nbformat": 4,
 "nbformat_minor": 5
}
